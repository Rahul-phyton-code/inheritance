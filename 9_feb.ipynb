{
  "nbformat": 4,
  "nbformat_minor": 0,
  "metadata": {
    "colab": {
      "provenance": [],
      "authorship_tag": "ABX9TyPgWsaJSNIIbJrZ2FIniJ0p",
      "include_colab_link": true
    },
    "kernelspec": {
      "name": "python3",
      "display_name": "Python 3"
    },
    "language_info": {
      "name": "python"
    }
  },
  "cells": [
    {
      "cell_type": "markdown",
      "metadata": {
        "id": "view-in-github",
        "colab_type": "text"
      },
      "source": [
        "<a href=\"https://colab.research.google.com/github/Rahul-phyton-code/inheritance/blob/main/9_feb.ipynb\" target=\"_parent\"><img src=\"https://colab.research.google.com/assets/colab-badge.svg\" alt=\"Open In Colab\"/></a>"
      ]
    },
    {
      "cell_type": "markdown",
      "source": [
        "1.)"
      ],
      "metadata": {
        "id": "H4tKpqCRSY-8"
      }
    },
    {
      "cell_type": "code",
      "source": [
        "class vehicle:\n",
        "  def __init__(self,name_of_vehicle,max_speed,average_of_vehicle):\n",
        "    self.name_of_vehicle = name_of_vehicle\n",
        "    self.max_speed = max_speed\n",
        "    self.average_of_vehicle = average_of_vehicle\n",
        "test = vehicle(\"Mahindra & Mahindra\",140,9)\n",
        "test.name_of_vehicle\n",
        "test.max_speed\n",
        "test.average_of_vehicle"
      ],
      "metadata": {
        "colab": {
          "base_uri": "https://localhost:8080/"
        },
        "id": "P9lHG42eScFS",
        "outputId": "e89d44d3-ee28-4c06-b87f-333bb5e7ffb0"
      },
      "execution_count": 2,
      "outputs": [
        {
          "output_type": "execute_result",
          "data": {
            "text/plain": [
              "9"
            ]
          },
          "metadata": {},
          "execution_count": 2
        }
      ]
    },
    {
      "cell_type": "markdown",
      "source": [
        "2.)"
      ],
      "metadata": {
        "id": "Bq_HDezxV3_b"
      }
    },
    {
      "cell_type": "code",
      "source": [
        "class vehicle:\n",
        "  def seating_capacity(self):\n",
        "    print(\"The capacity of car is maximum 4 persons\")\n",
        "    print(\"The name of car is Honda\")\n",
        "class child(vehicle):\n",
        "  pass\n",
        "test_vehicle = child()\n",
        "test_vehicle.seating_capacity()      \n"
      ],
      "metadata": {
        "colab": {
          "base_uri": "https://localhost:8080/"
        },
        "id": "wf_HIwb_V9ra",
        "outputId": "6bd197e2-85a0-4e87-b52a-863f09bac0b5"
      },
      "execution_count": 4,
      "outputs": [
        {
          "output_type": "stream",
          "name": "stdout",
          "text": [
            "The capacity of car is maximum 4 persons\n",
            "The name of car is Honda\n"
          ]
        }
      ]
    },
    {
      "cell_type": "markdown",
      "source": [
        "3.) If a child class is inheriting the properties of a single other class, we call it single inheritance. However, if a child class inherits from more than one class, i.e. this child class is derived from multiple classes, we call it multiple inheritance in Python."
      ],
      "metadata": {
        "id": "Ey18ae32aZ5V"
      }
    },
    {
      "cell_type": "code",
      "source": [
        "class test1:\n",
        "  def test1_class(self):\n",
        "    print(\"test class 1\")\n",
        "class test2(test1):\n",
        "  def test2_class(self):\n",
        "    print(\"test class 2\")\n",
        "class test3(test2):\n",
        "  def test3_class(self):\n",
        "    print(\"test class 3\")\n",
        "testing = test3()\n",
        "testing.test2_class()           "
      ],
      "metadata": {
        "colab": {
          "base_uri": "https://localhost:8080/"
        },
        "id": "2JoYE8jAa9DD",
        "outputId": "f967893f-cd71-4414-b906-91ba62fbe0f4"
      },
      "execution_count": 6,
      "outputs": [
        {
          "output_type": "stream",
          "name": "stdout",
          "text": [
            "test class 2\n"
          ]
        }
      ]
    },
    {
      "cell_type": "markdown",
      "source": [
        "4.) Getter: A method that allows you to access an attribute in a given class\n",
        "    \n",
        "    Setter: A method that allows you to set or mutate the value of an attribute in a class"
      ],
      "metadata": {
        "id": "caUDT76VcvM2"
      }
    },
    {
      "cell_type": "code",
      "source": [
        "class knowledge:\n",
        "  def __init__(self,balance):\n",
        "    self._balance = balance\n",
        "  def deposit(self,amount):\n",
        "    self._balance = self._balance + amount\n",
        "  def withdraw(self,amount):\n",
        "    if amount <= self._balance:\n",
        "      self._balance = self._balance - amount\n",
        "    else:\n",
        "      return False\n",
        "  def get_balance(self):\n",
        "    return self._balance\n",
        "\n",
        "pw_object = knowledge(10000)\n",
        "pw_object.deposit(2000)    \n",
        "pw_object.get_balance()\n",
        "pw_object.withdraw(3000)\n",
        "pw_object.get_balance()\n"
      ],
      "metadata": {
        "colab": {
          "base_uri": "https://localhost:8080/"
        },
        "id": "b-hoZOoldAH7",
        "outputId": "1d24ab81-02b7-4092-a931-3f949a6a511a"
      },
      "execution_count": 16,
      "outputs": [
        {
          "output_type": "execute_result",
          "data": {
            "text/plain": [
              "9000"
            ]
          },
          "metadata": {},
          "execution_count": 16
        }
      ]
    },
    {
      "cell_type": "code",
      "source": [
        "class label:\n",
        "  def __init__(self,value,font):\n",
        "    self._value = value\n",
        "    self._font = font\n",
        "  def set_value(self,words):\n",
        "    self._value = words\n",
        "  def get_value(self):\n",
        "    self._value\n",
        "  def set_font(self,design):\n",
        "    set._font = design\n",
        "  def get_font(self):\n",
        "    self._font     \n",
        "labels = label(\"w882\",\"A4\")        \n",
        "labels.set_value(\"data science\")\n",
        "labels.get_value()"
      ],
      "metadata": {
        "id": "6QHRWzh9rOWq"
      },
      "execution_count": 21,
      "outputs": []
    },
    {
      "cell_type": "markdown",
      "source": [
        "5.)"
      ],
      "metadata": {
        "id": "u4OLj9s8v0TE"
      }
    },
    {
      "cell_type": "markdown",
      "source": [
        "Method overriding is an ability of any object-oriented programming language that allows a subclass or child class to provide a specific implementation of a method that is already provided by one of its super-classes or parent classes"
      ],
      "metadata": {
        "id": "MqJ9MbeawHRm"
      }
    },
    {
      "cell_type": "code",
      "source": [
        "class parent1:\n",
        "  def test_parent1(self):\n",
        "    print(\"test1\")\n",
        "class parent2:\n",
        "  def test_parent2(self):\n",
        "    print(\"test2\")\n",
        "class parent3(parent1,parent2):\n",
        "  def test_parent3(self):\n",
        "    print('test3')\n",
        "parent_test = parent3()\n",
        "parent_test.test_parent2()   \n",
        "parent_test.test_parent3()         "
      ],
      "metadata": {
        "colab": {
          "base_uri": "https://localhost:8080/"
        },
        "id": "_l6TwJ3NxS1E",
        "outputId": "a7c7b458-431b-44c8-c9ed-f68f3a52e886"
      },
      "execution_count": 22,
      "outputs": [
        {
          "output_type": "stream",
          "name": "stdout",
          "text": [
            "test2\n",
            "test3\n"
          ]
        }
      ]
    }
  ]
}